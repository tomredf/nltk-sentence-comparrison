{
 "cells": [
  {
   "cell_type": "code",
   "metadata": {
    "tags": [],
    "cell_id": "00001-2eb75af0-316d-434a-ad0d-d8e211c3cb51",
    "deepnote_to_be_reexecuted": false,
    "source_hash": "cf1cad82",
    "execution_start": 1639895144335,
    "execution_millis": 44,
    "deepnote_cell_type": "code"
   },
   "source": "text = 'Originally, vegetables were collected from the wild by hunter-gatherers. Vegetables are all plants. Vegetables are eaten either raw or cooked.'\nquestion = 'What are vegetables?'",
   "execution_count": 1,
   "outputs": []
  },
  {
   "cell_type": "code",
   "metadata": {
    "tags": [],
    "cell_id": "00000-9c55032c-067c-4e05-b9f5-3992452ab75d",
    "deepnote_to_be_reexecuted": false,
    "source_hash": "c9d2013f",
    "execution_start": 1639895144380,
    "execution_millis": 1774,
    "deepnote_cell_type": "code"
   },
   "source": "import nltk\n\nfrom nltk.stem import WordNetLemmatizer\nlemmatizer = WordNetLemmatizer()\n\ndef lemma_me(sent):\n    sent_tokens = nltk.word_tokenize(sent.lower())\n    pos_tags = nltk.pos_tag(sent_tokens)\n\n    sentence_lemmas = []\n\n    for token, pos_tag in zip(sent_tokens, pos_tags):\n        if pos_tag[1][0].lower() in ['n', 'v', 'a', 'r']:\n            lemma = lemmatizer.lemmatize(token, pos_tag[1][0].lower())\n            sentence_lemmas.append(lemma)\n\n    return sentence_lemmas",
   "execution_count": 2,
   "outputs": []
  },
  {
   "cell_type": "code",
   "metadata": {
    "tags": [],
    "cell_id": "00002-5a0de7a5-b8e7-42f9-971a-05468e2d1472",
    "deepnote_to_be_reexecuted": false,
    "source_hash": "577e0ef5",
    "execution_start": 1639895146166,
    "execution_millis": 79,
    "deepnote_output_heights": [
     null,
     78.75
    ],
    "deepnote_cell_type": "code"
   },
   "source": "nltk.download('punkt')\nsentence_tokens = nltk.sent_tokenize(text)\nsentence_tokens.append(question)\nsentence_tokens\n",
   "execution_count": 3,
   "outputs": [
    {
     "name": "stderr",
     "text": "[nltk_data] Downloading package punkt to /root/nltk_data...\n[nltk_data]   Package punkt is already up-to-date!\n",
     "output_type": "stream",
     "data": {}
    },
    {
     "output_type": "execute_result",
     "execution_count": 3,
     "data": {
      "text/plain": "['Originally, vegetables were collected from the wild by hunter-gatherers.',\n 'Vegetables are all plants.',\n 'Vegetables are eaten either raw or cooked.',\n 'What are vegetables?']"
     },
     "metadata": {}
    }
   ]
  },
  {
   "cell_type": "code",
   "metadata": {
    "tags": [],
    "cell_id": "00001-23ecd699-65e6-4ee8-9f81-de900e62f109",
    "deepnote_to_be_reexecuted": false,
    "source_hash": "9ff8297e",
    "execution_start": 1639895146251,
    "execution_millis": 44,
    "deepnote_cell_type": "code"
   },
   "source": "from sklearn.feature_extraction.text import TfidfVectorizer",
   "execution_count": 4,
   "outputs": []
  },
  {
   "cell_type": "code",
   "metadata": {
    "tags": [],
    "cell_id": "00004-ef4a2e48-ab44-4a8d-9a44-f76c240fcd84",
    "deepnote_to_be_reexecuted": false,
    "source_hash": "5e1c1c4",
    "execution_start": 1639895146296,
    "execution_millis": 2,
    "deepnote_output_heights": [
     null,
     21.1875
    ],
    "deepnote_cell_type": "code"
   },
   "source": "nltk.download('averaged_perceptron_tagger')",
   "execution_count": 5,
   "outputs": [
    {
     "name": "stderr",
     "text": "[nltk_data] Downloading package averaged_perceptron_tagger to\n[nltk_data]     /root/nltk_data...\n[nltk_data]   Package averaged_perceptron_tagger is already up-to-\n[nltk_data]       date!\n",
     "output_type": "stream",
     "data": {}
    },
    {
     "output_type": "execute_result",
     "execution_count": 5,
     "data": {
      "text/plain": "True"
     },
     "metadata": {}
    }
   ]
  },
  {
   "cell_type": "code",
   "metadata": {
    "tags": [],
    "cell_id": "00005-4d16f0f5-2392-44be-8904-f4f3b74b4f83",
    "deepnote_to_be_reexecuted": false,
    "source_hash": "2b0d0c48",
    "execution_start": 1639895146297,
    "execution_millis": 44,
    "deepnote_output_heights": [
     null,
     21.1875
    ],
    "deepnote_cell_type": "code"
   },
   "source": "nltk.download('wordnet')",
   "execution_count": 6,
   "outputs": [
    {
     "name": "stderr",
     "text": "[nltk_data] Downloading package wordnet to /root/nltk_data...\n[nltk_data]   Package wordnet is already up-to-date!\n",
     "output_type": "stream",
     "data": {}
    },
    {
     "output_type": "execute_result",
     "execution_count": 6,
     "data": {
      "text/plain": "True"
     },
     "metadata": {}
    }
   ]
  },
  {
   "cell_type": "code",
   "metadata": {
    "tags": [],
    "cell_id": "00002-ca0f8210-8b2e-4ccb-9c90-62681c1f9c96",
    "deepnote_to_be_reexecuted": false,
    "source_hash": "8fc49b34",
    "execution_start": 1639895146340,
    "execution_millis": 75455,
    "deepnote_cell_type": "code"
   },
   "source": "tv = TfidfVectorizer(tokenizer=lemma_me)",
   "execution_count": 7,
   "outputs": []
  },
  {
   "cell_type": "code",
   "metadata": {
    "tags": [],
    "cell_id": "00003-ee9f9a78-271a-4e3b-8651-56a5789d35e1",
    "deepnote_to_be_reexecuted": false,
    "source_hash": "e6e7e57",
    "execution_start": 1639895146341,
    "execution_millis": 3667,
    "deepnote_output_heights": [
     606.453125
    ],
    "deepnote_cell_type": "code"
   },
   "source": "tf = tv.fit_transform(sentence_tokens)",
   "execution_count": 8,
   "outputs": []
  },
  {
   "cell_type": "code",
   "metadata": {
    "tags": [],
    "cell_id": "00008-11cabd50-b528-46e5-963e-0e03d2f79337",
    "deepnote_to_be_reexecuted": false,
    "source_hash": "bd123c72",
    "execution_start": 1639895150022,
    "execution_millis": 304,
    "deepnote_output_heights": [
     40.375
    ],
    "deepnote_cell_type": "code"
   },
   "source": "tf",
   "execution_count": 9,
   "outputs": [
    {
     "output_type": "execute_result",
     "execution_count": 9,
     "data": {
      "text/plain": "<4x8 sparse matrix of type '<class 'numpy.float64'>'\n\twith 14 stored elements in Compressed Sparse Row format>"
     },
     "metadata": {}
    }
   ]
  },
  {
   "cell_type": "code",
   "metadata": {
    "tags": [],
    "cell_id": "00009-dc9b12cb-54d7-458c-a9f1-3800ea29ad8b",
    "deepnote_to_be_reexecuted": false,
    "source_hash": "c51fea50",
    "execution_start": 1639895150056,
    "execution_millis": 286,
    "deepnote_output_heights": [
     155.5
    ],
    "deepnote_cell_type": "code"
   },
   "source": "tf.toarray()",
   "execution_count": 10,
   "outputs": [
    {
     "output_type": "execute_result",
     "execution_count": 10,
     "data": {
      "text/plain": "array([[0.27717414, 0.53114624, 0.        , 0.        , 0.53114624,\n        0.53114624, 0.        , 0.27717414],\n       [0.41988018, 0.        , 0.        , 0.        , 0.        ,\n        0.        , 0.8046125 , 0.41988018],\n       [0.32713399, 0.        , 0.62688384, 0.62688384, 0.        ,\n        0.        , 0.        , 0.32713399],\n       [0.70710678, 0.        , 0.        , 0.        , 0.        ,\n        0.        , 0.        , 0.70710678]])"
     },
     "metadata": {}
    }
   ]
  },
  {
   "cell_type": "code",
   "metadata": {
    "tags": [],
    "cell_id": "00010-703bd151-6e4f-4b1d-b728-5eb07fac593e",
    "deepnote_to_be_reexecuted": false,
    "source_hash": "5efd91f0",
    "execution_start": 1639895150073,
    "execution_millis": 50,
    "deepnote_output_heights": [
     null,
     139.265625
    ],
    "deepnote_cell_type": "code"
   },
   "source": "##import pandas\n\n##df = pandas.DataFrame(tf.toarray(), columns=tv.get_feature_names_out())",
   "execution_count": 11,
   "outputs": []
  },
  {
   "cell_type": "code",
   "metadata": {
    "tags": [],
    "cell_id": "00011-5e9f612b-13bb-445d-b80e-f0efc45ec9e1",
    "deepnote_to_be_reexecuted": false,
    "source_hash": "26ec3210",
    "execution_start": 1639895150124,
    "execution_millis": 223,
    "deepnote_output_heights": [
     21.1875
    ],
    "deepnote_cell_type": "code"
   },
   "source": "from sklearn.metrics.pairwise import cosine_similarity\nvalues = cosine_similarity(tf[-1], tf)\nvalues\n",
   "execution_count": 12,
   "outputs": [
    {
     "output_type": "execute_result",
     "execution_count": 12,
     "data": {
      "text/plain": "array([[0.39198343, 0.59380024, 0.46263733, 1.        ]])"
     },
     "metadata": {}
    }
   ]
  },
  {
   "cell_type": "code",
   "metadata": {
    "tags": [],
    "cell_id": "00012-f5c3e41e-1101-4fb4-b9f9-0ab8c445c5da",
    "deepnote_to_be_reexecuted": false,
    "source_hash": "27c5e9ba",
    "execution_start": 1639895150124,
    "execution_millis": 224,
    "deepnote_output_heights": [
     21.1875
    ],
    "deepnote_cell_type": "code"
   },
   "source": "index = values.argsort()[0][-2]\nindex",
   "execution_count": 13,
   "outputs": [
    {
     "output_type": "execute_result",
     "execution_count": 13,
     "data": {
      "text/plain": "1"
     },
     "metadata": {}
    }
   ]
  },
  {
   "cell_type": "code",
   "metadata": {
    "tags": [],
    "cell_id": "00013-1e2ea6fb-90f8-4b95-b143-da973057f882",
    "deepnote_to_be_reexecuted": false,
    "source_hash": "28b08885",
    "execution_start": 1639895150160,
    "execution_millis": 1,
    "deepnote_output_heights": [
     21.1875
    ],
    "deepnote_cell_type": "code"
   },
   "source": "values_flat = values.flatten()\nvalues_flat.sort()\nvalues_flat",
   "execution_count": 14,
   "outputs": [
    {
     "output_type": "execute_result",
     "execution_count": 14,
     "data": {
      "text/plain": "array([0.39198343, 0.46263733, 0.59380024, 1.        ])"
     },
     "metadata": {}
    }
   ]
  },
  {
   "cell_type": "code",
   "metadata": {
    "tags": [],
    "cell_id": "00014-7b05ac82-87eb-4a93-b7ff-ae8c6ad0aa8a",
    "deepnote_to_be_reexecuted": false,
    "source_hash": "9ec0672",
    "execution_start": 1639895150162,
    "execution_millis": 193,
    "deepnote_output_heights": [
     21.1875
    ],
    "deepnote_cell_type": "code"
   },
   "source": "coeff = values_flat[-2]\ncoeff",
   "execution_count": 15,
   "outputs": [
    {
     "output_type": "execute_result",
     "execution_count": 15,
     "data": {
      "text/plain": "0.593800244493221"
     },
     "metadata": {}
    }
   ]
  },
  {
   "cell_type": "code",
   "metadata": {
    "tags": [],
    "cell_id": "00015-a810d001-c0be-48f0-bcc1-4be3010b9428",
    "deepnote_to_be_reexecuted": false,
    "source_hash": "82a184f8",
    "execution_start": 1639895150163,
    "execution_millis": 76765,
    "deepnote_cell_type": "code"
   },
   "source": "if coeff > 0.3:\n    print(sentence_tokens[index])",
   "execution_count": 16,
   "outputs": [
    {
     "name": "stdout",
     "text": "Vegetables are all plants.\n",
     "output_type": "stream",
     "data": {}
    }
   ]
  },
  {
   "cell_type": "markdown",
   "source": "<a style='text-decoration:none;line-height:16px;display:flex;color:#5B5B62;padding:10px;justify-content:end;' href='https://deepnote.com?utm_source=created-in-deepnote-cell&projectId=18c33705-2c9c-422d-be07-56fe6239dac2' target=\"_blank\">\n<img alt='Created in deepnote.com' style='display:inline;max-height:16px;margin:0px;margin-right:7.5px;' src='data:image/svg+xml;base64,PD94bWwgdmVyc2lvbj0iMS4wIiBlbmNvZGluZz0iVVRGLTgiPz4KPHN2ZyB3aWR0aD0iODBweCIgaGVpZ2h0PSI4MHB4IiB2aWV3Qm94PSIwIDAgODAgODAiIHZlcnNpb249IjEuMSIgeG1sbnM9Imh0dHA6Ly93d3cudzMub3JnLzIwMDAvc3ZnIiB4bWxuczp4bGluaz0iaHR0cDovL3d3dy53My5vcmcvMTk5OS94bGluayI+CiAgICA8IS0tIEdlbmVyYXRvcjogU2tldGNoIDU0LjEgKDc2NDkwKSAtIGh0dHBzOi8vc2tldGNoYXBwLmNvbSAtLT4KICAgIDx0aXRsZT5Hcm91cCAzPC90aXRsZT4KICAgIDxkZXNjPkNyZWF0ZWQgd2l0aCBTa2V0Y2guPC9kZXNjPgogICAgPGcgaWQ9IkxhbmRpbmciIHN0cm9rZT0ibm9uZSIgc3Ryb2tlLXdpZHRoPSIxIiBmaWxsPSJub25lIiBmaWxsLXJ1bGU9ImV2ZW5vZGQiPgogICAgICAgIDxnIGlkPSJBcnRib2FyZCIgdHJhbnNmb3JtPSJ0cmFuc2xhdGUoLTEyMzUuMDAwMDAwLCAtNzkuMDAwMDAwKSI+CiAgICAgICAgICAgIDxnIGlkPSJHcm91cC0zIiB0cmFuc2Zvcm09InRyYW5zbGF0ZSgxMjM1LjAwMDAwMCwgNzkuMDAwMDAwKSI+CiAgICAgICAgICAgICAgICA8cG9seWdvbiBpZD0iUGF0aC0yMCIgZmlsbD0iIzAyNjVCNCIgcG9pbnRzPSIyLjM3NjIzNzYyIDgwIDM4LjA0NzY2NjcgODAgNTcuODIxNzgyMiA3My44MDU3NTkyIDU3LjgyMTc4MjIgMzIuNzU5MjczOSAzOS4xNDAyMjc4IDMxLjY4MzE2ODMiPjwvcG9seWdvbj4KICAgICAgICAgICAgICAgIDxwYXRoIGQ9Ik0zNS4wMDc3MTgsODAgQzQyLjkwNjIwMDcsNzYuNDU0OTM1OCA0Ny41NjQ5MTY3LDcxLjU0MjI2NzEgNDguOTgzODY2LDY1LjI2MTk5MzkgQzUxLjExMjI4OTksNTUuODQxNTg0MiA0MS42NzcxNzk1LDQ5LjIxMjIyODQgMjUuNjIzOTg0Niw0OS4yMTIyMjg0IEMyNS40ODQ5Mjg5LDQ5LjEyNjg0NDggMjkuODI2MTI5Niw0My4yODM4MjQ4IDM4LjY0NzU4NjksMzEuNjgzMTY4MyBMNzIuODcxMjg3MSwzMi41NTQ0MjUgTDY1LjI4MDk3Myw2Ny42NzYzNDIxIEw1MS4xMTIyODk5LDc3LjM3NjE0NCBMMzUuMDA3NzE4LDgwIFoiIGlkPSJQYXRoLTIyIiBmaWxsPSIjMDAyODY4Ij48L3BhdGg+CiAgICAgICAgICAgICAgICA8cGF0aCBkPSJNMCwzNy43MzA0NDA1IEwyNy4xMTQ1MzcsMC4yNTcxMTE0MzYgQzYyLjM3MTUxMjMsLTEuOTkwNzE3MDEgODAsMTAuNTAwMzkyNyA4MCwzNy43MzA0NDA1IEM4MCw2NC45NjA0ODgyIDY0Ljc3NjUwMzgsNzkuMDUwMzQxNCAzNC4zMjk1MTEzLDgwIEM0Ny4wNTUzNDg5LDc3LjU2NzA4MDggNTMuNDE4MjY3Nyw3MC4zMTM2MTAzIDUzLjQxODI2NzcsNTguMjM5NTg4NSBDNTMuNDE4MjY3Nyw0MC4xMjg1NTU3IDM2LjMwMzk1NDQsMzcuNzMwNDQwNSAyNS4yMjc0MTcsMzcuNzMwNDQwNSBDMTcuODQzMDU4NiwzNy43MzA0NDA1IDkuNDMzOTE5NjYsMzcuNzMwNDQwNSAwLDM3LjczMDQ0MDUgWiIgaWQ9IlBhdGgtMTkiIGZpbGw9IiMzNzkzRUYiPjwvcGF0aD4KICAgICAgICAgICAgPC9nPgogICAgICAgIDwvZz4KICAgIDwvZz4KPC9zdmc+' > </img>\nCreated in <span style='font-weight:600;margin-left:4px;'>Deepnote</span></a>",
   "metadata": {
    "tags": [],
    "created_in_deepnote_cell": true,
    "deepnote_cell_type": "markdown"
   }
  }
 ],
 "nbformat": 4,
 "nbformat_minor": 2,
 "metadata": {
  "orig_nbformat": 2,
  "deepnote": {
   "is_reactive": false
  },
  "deepnote_notebook_id": "e04bd984-b130-4445-8da7-3ae93ad58947",
  "deepnote_execution_queue": []
 }
}