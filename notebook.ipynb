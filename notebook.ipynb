{
 "cells": [
  {
   "cell_type": "code",
   "metadata": {
    "tags": [],
    "cell_id": "00001-2eb75af0-316d-434a-ad0d-d8e211c3cb51",
    "deepnote_to_be_reexecuted": false,
    "source_hash": "cf1cad82",
    "execution_start": 1639860716445,
    "execution_millis": 1984542,
    "deepnote_cell_type": "code"
   },
   "source": "text = 'Originally, vegetables were collected from the wild by hunter-gatherers. Vegetables are all plants. Vegetables are eaten either raw or cooked.'\nquestion = 'What are vegetables?'",
   "outputs": [],
   "execution_count": 1
  },
  {
   "cell_type": "code",
   "metadata": {
    "tags": [],
    "cell_id": "00000-9c55032c-067c-4e05-b9f5-3992452ab75d",
    "deepnote_to_be_reexecuted": false,
    "source_hash": "c9d2013f",
    "execution_start": 1639860716490,
    "execution_millis": 1866,
    "deepnote_cell_type": "code"
   },
   "source": "import nltk\n\nfrom nltk.stem import WordNetLemmatizer\nlemmatizer = WordNetLemmatizer()\n\ndef lemma_me(sent):\n    sent_tokens = nltk.word_tokenize(sent.lower())\n    pos_tags = nltk.pos_tag(sent_tokens)\n\n    sentence_lemmas = []\n\n    for token, pos_tag in zip(sent_tokens, pos_tags):\n        if pos_tag[1][0].lower() in ['n', 'v', 'a', 'r']:\n            lemma = lemmatizer.lemmatize(token, pos_tag[1][0].lower())\n            sentence_lemmas.append(lemma)\n\n    return sentence_lemmas",
   "outputs": [],
   "execution_count": 2
  },
  {
   "cell_type": "code",
   "metadata": {
    "tags": [],
    "cell_id": "00002-5a0de7a5-b8e7-42f9-971a-05468e2d1472",
    "deepnote_to_be_reexecuted": false,
    "source_hash": "5c8cabbc",
    "execution_start": 1639860718367,
    "execution_millis": 51,
    "deepnote_output_heights": [
     78.34375
    ],
    "deepnote_cell_type": "code"
   },
   "source": "##nltk.download('punkt')\nsentence_tokens = nltk.sent_tokenize(text)\nsentence_tokens.append(question)\nsentence_tokens\n",
   "outputs": [
    {
     "output_type": "execute_result",
     "execution_count": 3,
     "data": {
      "text/plain": "['Originally, vegetables were collected from the wild by hunter-gatherers.',\n 'Vegetables are all plants.',\n 'Vegetables are eaten either raw or cooked.',\n 'What are vegetables?']"
     },
     "metadata": {}
    }
   ],
   "execution_count": 3
  },
  {
   "cell_type": "code",
   "metadata": {
    "tags": [],
    "cell_id": "00001-23ecd699-65e6-4ee8-9f81-de900e62f109",
    "deepnote_to_be_reexecuted": false,
    "source_hash": "9ff8297e",
    "execution_start": 1639860718423,
    "execution_millis": 11,
    "deepnote_cell_type": "code"
   },
   "source": "from sklearn.feature_extraction.text import TfidfVectorizer",
   "outputs": [],
   "execution_count": 4
  },
  {
   "cell_type": "code",
   "metadata": {
    "tags": [],
    "cell_id": "00004-ef4a2e48-ab44-4a8d-9a44-f76c240fcd84",
    "deepnote_to_be_reexecuted": false,
    "source_hash": "5e1c1c4",
    "execution_start": 1639860718449,
    "execution_millis": 68,
    "deepnote_output_heights": [
     null,
     21.078125
    ],
    "deepnote_cell_type": "code"
   },
   "source": "nltk.download('averaged_perceptron_tagger')",
   "outputs": [
    {
     "name": "stderr",
     "text": "[nltk_data] Downloading package averaged_perceptron_tagger to\n[nltk_data]     /root/nltk_data...\n[nltk_data]   Package averaged_perceptron_tagger is already up-to-\n[nltk_data]       date!\n",
     "output_type": "stream",
     "data": {}
    },
    {
     "output_type": "execute_result",
     "execution_count": 5,
     "data": {
      "text/plain": "True"
     },
     "metadata": {}
    }
   ],
   "execution_count": 5
  },
  {
   "cell_type": "code",
   "metadata": {
    "tags": [],
    "cell_id": "00005-4d16f0f5-2392-44be-8904-f4f3b74b4f83",
    "deepnote_to_be_reexecuted": false,
    "source_hash": "2b0d0c48",
    "execution_start": 1639860718539,
    "execution_millis": 52,
    "deepnote_output_heights": [
     null,
     21.078125
    ],
    "deepnote_cell_type": "code"
   },
   "source": "nltk.download('wordnet')",
   "outputs": [
    {
     "name": "stderr",
     "text": "[nltk_data] Downloading package wordnet to /root/nltk_data...\n[nltk_data]   Package wordnet is already up-to-date!\n",
     "output_type": "stream",
     "data": {}
    },
    {
     "output_type": "execute_result",
     "execution_count": 6,
     "data": {
      "text/plain": "True"
     },
     "metadata": {}
    }
   ],
   "execution_count": 6
  },
  {
   "cell_type": "code",
   "metadata": {
    "tags": [],
    "cell_id": "00002-ca0f8210-8b2e-4ccb-9c90-62681c1f9c96",
    "deepnote_to_be_reexecuted": false,
    "source_hash": "8fc49b34",
    "execution_start": 1639860718599,
    "execution_millis": 13,
    "deepnote_cell_type": "code"
   },
   "source": "tv = TfidfVectorizer(tokenizer=lemma_me)",
   "outputs": [],
   "execution_count": 7
  },
  {
   "cell_type": "code",
   "metadata": {
    "tags": [],
    "cell_id": "00003-ee9f9a78-271a-4e3b-8651-56a5789d35e1",
    "deepnote_to_be_reexecuted": false,
    "source_hash": "e6e7e57",
    "execution_start": 1639860718621,
    "execution_millis": 4398,
    "deepnote_output_heights": [
     606.453125
    ],
    "deepnote_cell_type": "code"
   },
   "source": "tf = tv.fit_transform(sentence_tokens)",
   "outputs": [],
   "execution_count": 8
  },
  {
   "cell_type": "code",
   "metadata": {
    "tags": [],
    "cell_id": "00008-11cabd50-b528-46e5-963e-0e03d2f79337",
    "deepnote_to_be_reexecuted": false,
    "source_hash": "bd123c72",
    "execution_start": 1639860723025,
    "execution_millis": 49,
    "deepnote_output_heights": [
     40.171875
    ],
    "deepnote_cell_type": "code"
   },
   "source": "tf",
   "outputs": [
    {
     "output_type": "execute_result",
     "execution_count": 9,
     "data": {
      "text/plain": "<4x8 sparse matrix of type '<class 'numpy.float64'>'\n\twith 14 stored elements in Compressed Sparse Row format>"
     },
     "metadata": {}
    }
   ],
   "execution_count": 9
  },
  {
   "cell_type": "code",
   "metadata": {
    "tags": [],
    "cell_id": "00009-dc9b12cb-54d7-458c-a9f1-3800ea29ad8b",
    "deepnote_to_be_reexecuted": false,
    "source_hash": "c51fea50",
    "execution_start": 1639860723053,
    "execution_millis": 22,
    "deepnote_output_heights": [
     154.71875
    ],
    "deepnote_cell_type": "code"
   },
   "source": "tf.toarray()",
   "outputs": [
    {
     "output_type": "execute_result",
     "execution_count": 10,
     "data": {
      "text/plain": "array([[0.27717414, 0.53114624, 0.        , 0.        , 0.53114624,\n        0.53114624, 0.        , 0.27717414],\n       [0.41988018, 0.        , 0.        , 0.        , 0.        ,\n        0.        , 0.8046125 , 0.41988018],\n       [0.32713399, 0.        , 0.62688384, 0.62688384, 0.        ,\n        0.        , 0.        , 0.32713399],\n       [0.70710678, 0.        , 0.        , 0.        , 0.        ,\n        0.        , 0.        , 0.70710678]])"
     },
     "metadata": {}
    }
   ],
   "execution_count": 10
  },
  {
   "cell_type": "code",
   "metadata": {
    "tags": [],
    "cell_id": "00010-703bd151-6e4f-4b1d-b728-5eb07fac593e",
    "deepnote_to_be_reexecuted": false,
    "source_hash": "ecd3c3bf",
    "execution_start": 1639860723081,
    "execution_millis": 115,
    "deepnote_cell_type": "code"
   },
   "source": "import pandas\n\ndf = pandas.DataFrame(tf.toarray(), columns=tv.get_feature_names())\ndf",
   "outputs": [
    {
     "name": "stderr",
     "text": "/shared-libs/python3.7/py/lib/python3.7/site-packages/sklearn/utils/deprecation.py:87: FutureWarning: Function get_feature_names is deprecated; get_feature_names is deprecated in 1.0 and will be removed in 1.2. Please use get_feature_names_out instead.\n  warnings.warn(msg, category=FutureWarning)\n",
     "output_type": "stream",
     "data": {}
    },
    {
     "output_type": "execute_result",
     "execution_count": 11,
     "data": {
      "application/vnd.deepnote.dataframe.v3+json": {
       "column_count": 8,
       "row_count": 4,
       "columns": [
        {
         "name": "be",
         "dtype": "float64",
         "stats": {
          "unique_count": 4,
          "nan_count": 0,
          "min": "0.2771741429745394",
          "max": "0.7071067811865475",
          "histogram": [
           {
            "bin_start": 0.2771741429745394,
            "bin_end": 0.3201674067957402,
            "count": 1
           },
           {
            "bin_start": 0.3201674067957402,
            "bin_end": 0.363160670616941,
            "count": 1
           },
           {
            "bin_start": 0.363160670616941,
            "bin_end": 0.40615393443814185,
            "count": 0
           },
           {
            "bin_start": 0.40615393443814185,
            "bin_end": 0.44914719825934263,
            "count": 1
           },
           {
            "bin_start": 0.44914719825934263,
            "bin_end": 0.4921404620805434,
            "count": 0
           },
           {
            "bin_start": 0.4921404620805434,
            "bin_end": 0.5351337259017442,
            "count": 0
           },
           {
            "bin_start": 0.5351337259017442,
            "bin_end": 0.5781269897229451,
            "count": 0
           },
           {
            "bin_start": 0.5781269897229451,
            "bin_end": 0.6211202535441458,
            "count": 0
           },
           {
            "bin_start": 0.6211202535441458,
            "bin_end": 0.6641135173653467,
            "count": 0
           },
           {
            "bin_start": 0.6641135173653467,
            "bin_end": 0.7071067811865475,
            "count": 1
           }
          ]
         }
        },
        {
         "name": "collect",
         "dtype": "float64",
         "stats": {
          "unique_count": 2,
          "nan_count": 0,
          "min": "0.0",
          "max": "0.5311462412972718",
          "histogram": [
           {
            "bin_start": 0,
            "bin_end": 0.053114624129727186,
            "count": 3
           },
           {
            "bin_start": 0.053114624129727186,
            "bin_end": 0.10622924825945437,
            "count": 0
           },
           {
            "bin_start": 0.10622924825945437,
            "bin_end": 0.15934387238918157,
            "count": 0
           },
           {
            "bin_start": 0.15934387238918157,
            "bin_end": 0.21245849651890875,
            "count": 0
           },
           {
            "bin_start": 0.21245849651890875,
            "bin_end": 0.2655731206486359,
            "count": 0
           },
           {
            "bin_start": 0.2655731206486359,
            "bin_end": 0.31868774477836315,
            "count": 0
           },
           {
            "bin_start": 0.31868774477836315,
            "bin_end": 0.3718023689080903,
            "count": 0
           },
           {
            "bin_start": 0.3718023689080903,
            "bin_end": 0.4249169930378175,
            "count": 0
           },
           {
            "bin_start": 0.4249169930378175,
            "bin_end": 0.47803161716754466,
            "count": 0
           },
           {
            "bin_start": 0.47803161716754466,
            "bin_end": 0.5311462412972718,
            "count": 1
           }
          ]
         }
        },
        {
         "name": "cook",
         "dtype": "float64",
         "stats": {
          "unique_count": 2,
          "nan_count": 0,
          "min": "0.0",
          "max": "0.6268838408675178",
          "histogram": [
           {
            "bin_start": 0,
            "bin_end": 0.06268838408675179,
            "count": 3
           },
           {
            "bin_start": 0.06268838408675179,
            "bin_end": 0.12537676817350357,
            "count": 0
           },
           {
            "bin_start": 0.12537676817350357,
            "bin_end": 0.18806515226025536,
            "count": 0
           },
           {
            "bin_start": 0.18806515226025536,
            "bin_end": 0.25075353634700714,
            "count": 0
           },
           {
            "bin_start": 0.25075353634700714,
            "bin_end": 0.31344192043375896,
            "count": 0
           },
           {
            "bin_start": 0.31344192043375896,
            "bin_end": 0.3761303045205107,
            "count": 0
           },
           {
            "bin_start": 0.3761303045205107,
            "bin_end": 0.4388186886072625,
            "count": 0
           },
           {
            "bin_start": 0.4388186886072625,
            "bin_end": 0.5015070726940143,
            "count": 0
           },
           {
            "bin_start": 0.5015070726940143,
            "bin_end": 0.5641954567807661,
            "count": 0
           },
           {
            "bin_start": 0.5641954567807661,
            "bin_end": 0.6268838408675178,
            "count": 1
           }
          ]
         }
        },
        {
         "name": "eat",
         "dtype": "float64",
         "stats": {
          "unique_count": 2,
          "nan_count": 0,
          "min": "0.0",
          "max": "0.6268838408675178",
          "histogram": [
           {
            "bin_start": 0,
            "bin_end": 0.06268838408675179,
            "count": 3
           },
           {
            "bin_start": 0.06268838408675179,
            "bin_end": 0.12537676817350357,
            "count": 0
           },
           {
            "bin_start": 0.12537676817350357,
            "bin_end": 0.18806515226025536,
            "count": 0
           },
           {
            "bin_start": 0.18806515226025536,
            "bin_end": 0.25075353634700714,
            "count": 0
           },
           {
            "bin_start": 0.25075353634700714,
            "bin_end": 0.31344192043375896,
            "count": 0
           },
           {
            "bin_start": 0.31344192043375896,
            "bin_end": 0.3761303045205107,
            "count": 0
           },
           {
            "bin_start": 0.3761303045205107,
            "bin_end": 0.4388186886072625,
            "count": 0
           },
           {
            "bin_start": 0.4388186886072625,
            "bin_end": 0.5015070726940143,
            "count": 0
           },
           {
            "bin_start": 0.5015070726940143,
            "bin_end": 0.5641954567807661,
            "count": 0
           },
           {
            "bin_start": 0.5641954567807661,
            "bin_end": 0.6268838408675178,
            "count": 1
           }
          ]
         }
        },
        {
         "name": "hunter-gatherer",
         "dtype": "float64",
         "stats": {
          "unique_count": 2,
          "nan_count": 0,
          "min": "0.0",
          "max": "0.5311462412972718",
          "histogram": [
           {
            "bin_start": 0,
            "bin_end": 0.053114624129727186,
            "count": 3
           },
           {
            "bin_start": 0.053114624129727186,
            "bin_end": 0.10622924825945437,
            "count": 0
           },
           {
            "bin_start": 0.10622924825945437,
            "bin_end": 0.15934387238918157,
            "count": 0
           },
           {
            "bin_start": 0.15934387238918157,
            "bin_end": 0.21245849651890875,
            "count": 0
           },
           {
            "bin_start": 0.21245849651890875,
            "bin_end": 0.2655731206486359,
            "count": 0
           },
           {
            "bin_start": 0.2655731206486359,
            "bin_end": 0.31868774477836315,
            "count": 0
           },
           {
            "bin_start": 0.31868774477836315,
            "bin_end": 0.3718023689080903,
            "count": 0
           },
           {
            "bin_start": 0.3718023689080903,
            "bin_end": 0.4249169930378175,
            "count": 0
           },
           {
            "bin_start": 0.4249169930378175,
            "bin_end": 0.47803161716754466,
            "count": 0
           },
           {
            "bin_start": 0.47803161716754466,
            "bin_end": 0.5311462412972718,
            "count": 1
           }
          ]
         }
        },
        {
         "name": "originally",
         "dtype": "float64",
         "stats": {
          "unique_count": 2,
          "nan_count": 0,
          "min": "0.0",
          "max": "0.5311462412972718",
          "histogram": [
           {
            "bin_start": 0,
            "bin_end": 0.053114624129727186,
            "count": 3
           },
           {
            "bin_start": 0.053114624129727186,
            "bin_end": 0.10622924825945437,
            "count": 0
           },
           {
            "bin_start": 0.10622924825945437,
            "bin_end": 0.15934387238918157,
            "count": 0
           },
           {
            "bin_start": 0.15934387238918157,
            "bin_end": 0.21245849651890875,
            "count": 0
           },
           {
            "bin_start": 0.21245849651890875,
            "bin_end": 0.2655731206486359,
            "count": 0
           },
           {
            "bin_start": 0.2655731206486359,
            "bin_end": 0.31868774477836315,
            "count": 0
           },
           {
            "bin_start": 0.31868774477836315,
            "bin_end": 0.3718023689080903,
            "count": 0
           },
           {
            "bin_start": 0.3718023689080903,
            "bin_end": 0.4249169930378175,
            "count": 0
           },
           {
            "bin_start": 0.4249169930378175,
            "bin_end": 0.47803161716754466,
            "count": 0
           },
           {
            "bin_start": 0.47803161716754466,
            "bin_end": 0.5311462412972718,
            "count": 1
           }
          ]
         }
        },
        {
         "name": "plant",
         "dtype": "float64",
         "stats": {
          "unique_count": 2,
          "nan_count": 0,
          "min": "0.0",
          "max": "0.8046124965719778",
          "histogram": [
           {
            "bin_start": 0,
            "bin_end": 0.08046124965719778,
            "count": 3
           },
           {
            "bin_start": 0.08046124965719778,
            "bin_end": 0.16092249931439556,
            "count": 0
           },
           {
            "bin_start": 0.16092249931439556,
            "bin_end": 0.24138374897159334,
            "count": 0
           },
           {
            "bin_start": 0.24138374897159334,
            "bin_end": 0.3218449986287911,
            "count": 0
           },
           {
            "bin_start": 0.3218449986287911,
            "bin_end": 0.40230624828598893,
            "count": 0
           },
           {
            "bin_start": 0.40230624828598893,
            "bin_end": 0.4827674979431867,
            "count": 0
           },
           {
            "bin_start": 0.4827674979431867,
            "bin_end": 0.5632287476003844,
            "count": 0
           },
           {
            "bin_start": 0.5632287476003844,
            "bin_end": 0.6436899972575822,
            "count": 0
           },
           {
            "bin_start": 0.6436899972575822,
            "bin_end": 0.7241512469147801,
            "count": 0
           },
           {
            "bin_start": 0.7241512469147801,
            "bin_end": 0.8046124965719778,
            "count": 1
           }
          ]
         }
        },
        {
         "name": "vegetable",
         "dtype": "float64",
         "stats": {
          "unique_count": 4,
          "nan_count": 0,
          "min": "0.2771741429745394",
          "max": "0.7071067811865475",
          "histogram": [
           {
            "bin_start": 0.2771741429745394,
            "bin_end": 0.3201674067957402,
            "count": 1
           },
           {
            "bin_start": 0.3201674067957402,
            "bin_end": 0.363160670616941,
            "count": 1
           },
           {
            "bin_start": 0.363160670616941,
            "bin_end": 0.40615393443814185,
            "count": 0
           },
           {
            "bin_start": 0.40615393443814185,
            "bin_end": 0.44914719825934263,
            "count": 1
           },
           {
            "bin_start": 0.44914719825934263,
            "bin_end": 0.4921404620805434,
            "count": 0
           },
           {
            "bin_start": 0.4921404620805434,
            "bin_end": 0.5351337259017442,
            "count": 0
           },
           {
            "bin_start": 0.5351337259017442,
            "bin_end": 0.5781269897229451,
            "count": 0
           },
           {
            "bin_start": 0.5781269897229451,
            "bin_end": 0.6211202535441458,
            "count": 0
           },
           {
            "bin_start": 0.6211202535441458,
            "bin_end": 0.6641135173653467,
            "count": 0
           },
           {
            "bin_start": 0.6641135173653467,
            "bin_end": 0.7071067811865475,
            "count": 1
           }
          ]
         }
        },
        {
         "name": "_deepnote_index_column",
         "dtype": "int64"
        }
       ],
       "rows": [
        {
         "be": 0.2771741429745394,
         "collect": 0.5311462412972718,
         "cook": 0,
         "eat": 0,
         "hunter-gatherer": 0.5311462412972718,
         "originally": 0.5311462412972718,
         "plant": 0,
         "vegetable": 0.2771741429745394,
         "_deepnote_index_column": 0
        },
        {
         "be": 0.41988017955138635,
         "collect": 0,
         "cook": 0,
         "eat": 0,
         "hunter-gatherer": 0,
         "originally": 0,
         "plant": 0.8046124965719778,
         "vegetable": 0.41988017955138635,
         "_deepnote_index_column": 1
        },
        {
         "be": 0.32713399404401333,
         "collect": 0,
         "cook": 0.6268838408675178,
         "eat": 0.6268838408675178,
         "hunter-gatherer": 0,
         "originally": 0,
         "plant": 0,
         "vegetable": 0.32713399404401333,
         "_deepnote_index_column": 2
        },
        {
         "be": 0.7071067811865475,
         "collect": 0,
         "cook": 0,
         "eat": 0,
         "hunter-gatherer": 0,
         "originally": 0,
         "plant": 0,
         "vegetable": 0.7071067811865475,
         "_deepnote_index_column": 3
        }
       ]
      },
      "text/plain": "         be   collect      cook       eat  hunter-gatherer  originally  \\\n0  0.277174  0.531146  0.000000  0.000000         0.531146    0.531146   \n1  0.419880  0.000000  0.000000  0.000000         0.000000    0.000000   \n2  0.327134  0.000000  0.626884  0.626884         0.000000    0.000000   \n3  0.707107  0.000000  0.000000  0.000000         0.000000    0.000000   \n\n      plant  vegetable  \n0  0.000000   0.277174  \n1  0.804612   0.419880  \n2  0.000000   0.327134  \n3  0.000000   0.707107  ",
      "text/html": "<div>\n<style scoped>\n    .dataframe tbody tr th:only-of-type {\n        vertical-align: middle;\n    }\n\n    .dataframe tbody tr th {\n        vertical-align: top;\n    }\n\n    .dataframe thead th {\n        text-align: right;\n    }\n</style>\n<table border=\"1\" class=\"dataframe\">\n  <thead>\n    <tr style=\"text-align: right;\">\n      <th></th>\n      <th>be</th>\n      <th>collect</th>\n      <th>cook</th>\n      <th>eat</th>\n      <th>hunter-gatherer</th>\n      <th>originally</th>\n      <th>plant</th>\n      <th>vegetable</th>\n    </tr>\n  </thead>\n  <tbody>\n    <tr>\n      <th>0</th>\n      <td>0.277174</td>\n      <td>0.531146</td>\n      <td>0.000000</td>\n      <td>0.000000</td>\n      <td>0.531146</td>\n      <td>0.531146</td>\n      <td>0.000000</td>\n      <td>0.277174</td>\n    </tr>\n    <tr>\n      <th>1</th>\n      <td>0.419880</td>\n      <td>0.000000</td>\n      <td>0.000000</td>\n      <td>0.000000</td>\n      <td>0.000000</td>\n      <td>0.000000</td>\n      <td>0.804612</td>\n      <td>0.419880</td>\n    </tr>\n    <tr>\n      <th>2</th>\n      <td>0.327134</td>\n      <td>0.000000</td>\n      <td>0.626884</td>\n      <td>0.626884</td>\n      <td>0.000000</td>\n      <td>0.000000</td>\n      <td>0.000000</td>\n      <td>0.327134</td>\n    </tr>\n    <tr>\n      <th>3</th>\n      <td>0.707107</td>\n      <td>0.000000</td>\n      <td>0.000000</td>\n      <td>0.000000</td>\n      <td>0.000000</td>\n      <td>0.000000</td>\n      <td>0.000000</td>\n      <td>0.707107</td>\n    </tr>\n  </tbody>\n</table>\n</div>"
     },
     "metadata": {}
    }
   ],
   "execution_count": 11
  },
  {
   "cell_type": "code",
   "metadata": {
    "tags": [],
    "cell_id": "00011-5e9f612b-13bb-445d-b80e-f0efc45ec9e1",
    "deepnote_to_be_reexecuted": false,
    "source_hash": "26ec3210",
    "execution_start": 1639860723202,
    "execution_millis": 81,
    "deepnote_output_heights": [
     21.078125
    ],
    "deepnote_cell_type": "code"
   },
   "source": "from sklearn.metrics.pairwise import cosine_similarity\nvalues = cosine_similarity(tf[-1], tf)\nvalues\n",
   "outputs": [
    {
     "output_type": "execute_result",
     "execution_count": 12,
     "data": {
      "text/plain": "array([[0.39198343, 0.59380024, 0.46263733, 1.        ]])"
     },
     "metadata": {}
    }
   ],
   "execution_count": 12
  },
  {
   "cell_type": "code",
   "metadata": {
    "tags": [],
    "cell_id": "00012-f5c3e41e-1101-4fb4-b9f9-0ab8c445c5da",
    "deepnote_to_be_reexecuted": false,
    "source_hash": "27c5e9ba",
    "execution_start": 1639860723275,
    "execution_millis": 9,
    "deepnote_output_heights": [
     21.078125
    ],
    "deepnote_cell_type": "code"
   },
   "source": "index = values.argsort()[0][-2]\nindex",
   "outputs": [
    {
     "output_type": "execute_result",
     "execution_count": 13,
     "data": {
      "text/plain": "1"
     },
     "metadata": {}
    }
   ],
   "execution_count": 13
  },
  {
   "cell_type": "code",
   "metadata": {
    "tags": [],
    "cell_id": "00013-1e2ea6fb-90f8-4b95-b143-da973057f882",
    "deepnote_to_be_reexecuted": false,
    "source_hash": "28b08885",
    "execution_start": 1639860723319,
    "execution_millis": 6,
    "deepnote_output_heights": [
     21.078125
    ],
    "deepnote_cell_type": "code"
   },
   "source": "values_flat = values.flatten()\nvalues_flat.sort()\nvalues_flat",
   "outputs": [
    {
     "output_type": "execute_result",
     "execution_count": 14,
     "data": {
      "text/plain": "array([0.39198343, 0.46263733, 0.59380024, 1.        ])"
     },
     "metadata": {}
    }
   ],
   "execution_count": 14
  },
  {
   "cell_type": "code",
   "metadata": {
    "tags": [],
    "cell_id": "00014-7b05ac82-87eb-4a93-b7ff-ae8c6ad0aa8a",
    "deepnote_to_be_reexecuted": false,
    "source_hash": "9ec0672",
    "execution_start": 1639860723321,
    "execution_millis": 0,
    "deepnote_output_heights": [
     21.078125
    ],
    "deepnote_cell_type": "code"
   },
   "source": "coeff = values_flat[-2]\ncoeff",
   "outputs": [
    {
     "output_type": "execute_result",
     "execution_count": 15,
     "data": {
      "text/plain": "0.593800244493221"
     },
     "metadata": {}
    }
   ],
   "execution_count": 15
  },
  {
   "cell_type": "code",
   "metadata": {
    "tags": [],
    "cell_id": "00015-a810d001-c0be-48f0-bcc1-4be3010b9428",
    "deepnote_to_be_reexecuted": false,
    "source_hash": "82a184f8",
    "execution_start": 1639860723322,
    "execution_millis": 3,
    "deepnote_cell_type": "code"
   },
   "source": "if coeff > 0.3:\n    print(sentence_tokens[index])",
   "outputs": [
    {
     "name": "stdout",
     "text": "Vegetables are all plants.\n",
     "output_type": "stream",
     "data": {}
    }
   ],
   "execution_count": 16
  },
  {
   "cell_type": "markdown",
   "source": "<a style='text-decoration:none;line-height:16px;display:flex;color:#5B5B62;padding:10px;justify-content:end;' href='https://deepnote.com?utm_source=created-in-deepnote-cell&projectId=18c33705-2c9c-422d-be07-56fe6239dac2' target=\"_blank\">\n<img alt='Created in deepnote.com' style='display:inline;max-height:16px;margin:0px;margin-right:7.5px;' src='data:image/svg+xml;base64,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' > </img>\nCreated in <span style='font-weight:600;margin-left:4px;'>Deepnote</span></a>",
   "metadata": {
    "tags": [],
    "created_in_deepnote_cell": true,
    "deepnote_cell_type": "markdown"
   }
  }
 ],
 "nbformat": 4,
 "nbformat_minor": 2,
 "metadata": {
  "orig_nbformat": 2,
  "deepnote": {
   "is_reactive": false
  },
  "deepnote_notebook_id": "e04bd984-b130-4445-8da7-3ae93ad58947",
  "deepnote_execution_queue": []
 }
}